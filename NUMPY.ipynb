{
 "cells": [
  {
   "cell_type": "markdown",
   "id": "7b8e1839",
   "metadata": {},
   "source": [
    "# NUMPY"
   ]
  },
  {
   "cell_type": "markdown",
   "id": "16fd213f",
   "metadata": {},
   "source": [
    "#### Numpy stands for numerical python\n",
    "Using numpy we can perform :-\n",
    "1.Mathematical and logical calcualtions on an array <br>\n",
    "2.fourier transform and routeins for shape manipulation <br>\n",
    "3.It has built in functions for linear algebra random number generation <br>\n",
    "4.Used for scientific calculation <br>\n",
    "5.It is faster than python list <br>\n",
    "6.It is fast because it is associated with C programming <br>"
   ]
  },
  {
   "cell_type": "raw",
   "id": "082c2069",
   "metadata": {},
   "source": [
    "It is Often called as an alternate for \"MATLAB\".\n",
    "Used with packages like scipy(scientific python) and matplotlib(plotting library) and this makes it capable to replace MATLAB\n",
    "Here,\n",
    "1. 1D array --> vector\n",
    "2. 2D array --> Matrix\n",
    "3. 3D array --> Tensor"
   ]
  },
  {
   "cell_type": "markdown",
   "id": "f2cbcdcd",
   "metadata": {},
   "source": [
    "#### shortcuts\n",
    "esc+ 2 times d = delete a cell <br>\n",
    "esc + b = insert cell below <br>\n",
    "esc + a = insert cell above <br>\n",
    "esc + [1 to 6] = headings <br>"
   ]
  },
  {
   "cell_type": "code",
   "execution_count": 1,
   "id": "66881404",
   "metadata": {},
   "outputs": [],
   "source": [
    "import numpy as np; # importing numpy library"
   ]
  },
  {
   "cell_type": "code",
   "execution_count": 2,
   "id": "ee7e437f",
   "metadata": {},
   "outputs": [
    {
     "data": {
      "text/plain": [
       "array([1, 2, 3, 4])"
      ]
     },
     "execution_count": 2,
     "metadata": {},
     "output_type": "execute_result"
    }
   ],
   "source": [
    "a=[1,2,3,4];\n",
    "myarr=np.array(a); # for creating an array;\n",
    "myarr\n"
   ]
  },
  {
   "cell_type": "code",
   "execution_count": 3,
   "id": "cac8114f",
   "metadata": {},
   "outputs": [
    {
     "data": {
      "text/plain": [
       "array([1, 2, 3, 4])"
      ]
     },
     "execution_count": 3,
     "metadata": {},
     "output_type": "execute_result"
    }
   ],
   "source": [
    "# or \n",
    "myarr=np.array([1,2,3,4]);\n",
    "myarr"
   ]
  },
  {
   "cell_type": "code",
   "execution_count": 4,
   "id": "677a25b2",
   "metadata": {},
   "outputs": [
    {
     "name": "stdout",
     "output_type": "stream",
     "text": [
      "enter the size of the array3\n",
      "enter number1\n",
      "enter number2\n",
      "enter number3\n"
     ]
    },
    {
     "data": {
      "text/plain": [
       "array([1, 2, 3])"
      ]
     },
     "execution_count": 4,
     "metadata": {},
     "output_type": "execute_result"
    }
   ],
   "source": [
    "# taking input from user\n",
    "\n",
    "a=[]\n",
    "n=int(input('enter the size of the array'));\n",
    "for i in range(n):\n",
    "    val=int(input('enter number'));\n",
    "    a.append(val);\n",
    "myarr=np.array(a);\n",
    "myarr\n",
    "    "
   ]
  },
  {
   "cell_type": "code",
   "execution_count": 5,
   "id": "ceb33d4c",
   "metadata": {},
   "outputs": [
    {
     "data": {
      "text/plain": [
       "array([[1, 2, 3],\n",
       "       [4, 5, 6],\n",
       "       [7, 8, 9]])"
      ]
     },
     "execution_count": 5,
     "metadata": {},
     "output_type": "execute_result"
    }
   ],
   "source": [
    "# creating 2D array \n",
    "a=[[1,2,3],[4,5,6],[7,8,9]];\n",
    "myarr=np.array(a);\n",
    "myarr"
   ]
  },
  {
   "cell_type": "code",
   "execution_count": 6,
   "id": "8e862a9b",
   "metadata": {},
   "outputs": [
    {
     "data": {
      "text/plain": [
       "array([[1, 2, 3],\n",
       "       [4, 5, 6],\n",
       "       [7, 8, 9]])"
      ]
     },
     "execution_count": 6,
     "metadata": {},
     "output_type": "execute_result"
    }
   ],
   "source": [
    "# or\n",
    "myarr=np.array([[1,2,3],[4,5,6],[7,8,9]]);\n",
    "myarr"
   ]
  },
  {
   "cell_type": "code",
   "execution_count": 7,
   "id": "3a87c4a5",
   "metadata": {},
   "outputs": [
    {
     "name": "stdout",
     "output_type": "stream",
     "text": [
      "enter the no of rows of the array3\n",
      "enter the no of columns of the array3\n",
      "enter number :1\n",
      "enter number :2\n",
      "enter number :3\n",
      "enter number :4\n",
      "enter number :5\n",
      "enter number :6\n",
      "enter number :7\n",
      "enter number :8\n",
      "enter number :9\n"
     ]
    },
    {
     "data": {
      "text/plain": [
       "array([[1, 2, 3],\n",
       "       [4, 5, 6],\n",
       "       [7, 8, 9]])"
      ]
     },
     "execution_count": 7,
     "metadata": {},
     "output_type": "execute_result"
    }
   ],
   "source": [
    "#or taking input from user\n",
    "a=[]\n",
    "row=int(input('enter the no of rows of the array'));\n",
    "col=int(input('enter the no of columns of the array'));\n",
    "\n",
    "for i in range(row):\n",
    "    b=[];\n",
    "    for j in range(col):\n",
    "        val=int(input('enter number :'));\n",
    "        b.append(val);\n",
    "    a.append(b);\n",
    "myarr=np.array(a);\n",
    "myarr\n",
    "        "
   ]
  },
  {
   "cell_type": "code",
   "execution_count": 8,
   "id": "dfd20c65",
   "metadata": {},
   "outputs": [
    {
     "name": "stdout",
     "output_type": "stream",
     "text": [
      "the dimension of array =  2\n",
      "the shape of the array is =  (3, 3)\n"
     ]
    }
   ],
   "source": [
    "print(\"the dimension of array = \",myarr.ndim); # printing dimension of the array\n",
    "print(\"the shape of the array is = \",myarr.shape) # printing shape of the array"
   ]
  },
  {
   "cell_type": "markdown",
   "id": "5260d5cf",
   "metadata": {},
   "source": [
    "## Numpy Functions"
   ]
  },
  {
   "cell_type": "code",
   "execution_count": 9,
   "id": "470157db",
   "metadata": {},
   "outputs": [
    {
     "data": {
      "text/plain": [
       "array([0., 0., 0., 0., 0.])"
      ]
     },
     "execution_count": 9,
     "metadata": {},
     "output_type": "execute_result"
    }
   ],
   "source": [
    "# 1. Zeroes :- creates an array (either one or multi-dimensional) and fill all the values with zero\n",
    "\n",
    "# a.one dimensional\n",
    "arr=np.zeros(5)\n",
    "arr"
   ]
  },
  {
   "cell_type": "code",
   "execution_count": 10,
   "id": "c86dd484",
   "metadata": {},
   "outputs": [
    {
     "data": {
      "text/plain": [
       "array([[0., 0., 0.],\n",
       "       [0., 0., 0.]])"
      ]
     },
     "execution_count": 10,
     "metadata": {},
     "output_type": "execute_result"
    }
   ],
   "source": [
    "# b.2 dimensional\n",
    "arr=np.zeros([2,3]) # in square brackets the dimension of the array\n",
    "arr"
   ]
  },
  {
   "cell_type": "code",
   "execution_count": 11,
   "id": "8152136a",
   "metadata": {},
   "outputs": [
    {
     "data": {
      "text/plain": [
       "array([1., 1., 1., 1., 1.])"
      ]
     },
     "execution_count": 11,
     "metadata": {},
     "output_type": "execute_result"
    }
   ],
   "source": [
    "# 2. Ones :- creates an array and fill all the values with one(1)\n",
    "\n",
    "# a.one dimensional\n",
    "arr=np.ones(5)\n",
    "arr"
   ]
  },
  {
   "cell_type": "code",
   "execution_count": 12,
   "id": "9a6be285",
   "metadata": {},
   "outputs": [
    {
     "data": {
      "text/plain": [
       "array([[1., 1., 1., 1.],\n",
       "       [1., 1., 1., 1.],\n",
       "       [1., 1., 1., 1.]])"
      ]
     },
     "execution_count": 12,
     "metadata": {},
     "output_type": "execute_result"
    }
   ],
   "source": [
    "# b.2 dimensional\n",
    "arr=np.ones([3,4]);\n",
    "arr"
   ]
  },
  {
   "cell_type": "code",
   "execution_count": 13,
   "id": "b0056aa2",
   "metadata": {},
   "outputs": [
    {
     "name": "stdout",
     "output_type": "stream",
     "text": [
      "[[1. 0. 0. 0. 0.]\n",
      " [0. 1. 0. 0. 0.]\n",
      " [0. 0. 1. 0. 0.]\n",
      " [0. 0. 0. 1. 0.]\n",
      " [0. 0. 0. 0. 1.]]\n",
      "\n",
      "[[1. 0. 0. 0.]\n",
      " [0. 1. 0. 0.]\n",
      " [0. 0. 1. 0.]]\n"
     ]
    }
   ],
   "source": [
    "# 3.eye :- creates an array with all diagonal elements as 1 and rest as 0 (in a square matrix).\n",
    "#In case of non-square matrix the values are still 1 for diagonal (upto which it can draw diagonal) and rest are zero. for eg,\n",
    "\n",
    "# a. square matrix\n",
    "arr=np.eye(5);\n",
    "print(arr);\n",
    "\n",
    "print();\n",
    "# b. non-square matrix\n",
    "arr=np.eye(3,4)\n",
    "print(arr);"
   ]
  },
  {
   "cell_type": "code",
   "execution_count": 14,
   "id": "026d97a7",
   "metadata": {},
   "outputs": [
    {
     "data": {
      "text/plain": [
       "array([[2, 0, 0, 0],\n",
       "       [0, 3, 0, 0],\n",
       "       [0, 0, 4, 0],\n",
       "       [0, 0, 0, 5]])"
      ]
     },
     "execution_count": 14,
     "metadata": {},
     "output_type": "execute_result"
    }
   ],
   "source": [
    "# 4. diag :- creates a 2 dimensional array with all diagonal elements as given value and rest other as zero (in a square matrix);\n",
    "\n",
    "arr=np.diag([2,3,4,5]);\n",
    "arr"
   ]
  },
  {
   "cell_type": "code",
   "execution_count": 15,
   "id": "ead8c12e",
   "metadata": {},
   "outputs": [
    {
     "name": "stdout",
     "output_type": "stream",
     "text": [
      "[2 3 4 5]\n"
     ]
    }
   ],
   "source": [
    "# to get diagonal elements from a 2 dimensional array\n",
    "print(np.diag(arr));"
   ]
  },
  {
   "cell_type": "code",
   "execution_count": 16,
   "id": "4f554455",
   "metadata": {},
   "outputs": [
    {
     "data": {
      "text/plain": [
       "array([6, 1, 1])"
      ]
     },
     "execution_count": 16,
     "metadata": {},
     "output_type": "execute_result"
    }
   ],
   "source": [
    "# 5. randint :- generate a random number between a given range\n",
    "# the syntax is rand(min,max,total_values);\n",
    "# value changes every time we run the program\n",
    "\n",
    "arr=np.random.randint(1,10,3);\n",
    "arr"
   ]
  },
  {
   "cell_type": "code",
   "execution_count": 17,
   "id": "ab1fef95",
   "metadata": {},
   "outputs": [
    {
     "data": {
      "text/plain": [
       "array([0.16351226, 0.15094205, 0.39910884])"
      ]
     },
     "execution_count": 17,
     "metadata": {},
     "output_type": "execute_result"
    }
   ],
   "source": [
    "# 5. rand :- generate a random value between 0 to 1.\n",
    "# Syntax :- rand(number_of_values);\n",
    "\n",
    "arr=np.random.rand(3);\n",
    "arr"
   ]
  },
  {
   "cell_type": "code",
   "execution_count": 18,
   "id": "4df013d2",
   "metadata": {},
   "outputs": [
    {
     "data": {
      "text/plain": [
       "array([[0.98218974, 0.94237555, 0.07340011],\n",
       "       [0.1076138 , 0.02950896, 0.90957025]])"
      ]
     },
     "execution_count": 18,
     "metadata": {},
     "output_type": "execute_result"
    }
   ],
   "source": [
    "# generating 2 dimensional array using rand function\n",
    "arr=np.random.rand(2,3);\n",
    "arr"
   ]
  },
  {
   "cell_type": "code",
   "execution_count": 19,
   "id": "2f8fb343",
   "metadata": {},
   "outputs": [
    {
     "data": {
      "text/plain": [
       "array([0.05960896, 0.80679737, 0.64884973, 0.96550216])"
      ]
     },
     "execution_count": 19,
     "metadata": {},
     "output_type": "execute_result"
    }
   ],
   "source": [
    "# 7. randn :- generates a random close to zero(0) . This may return +ve or -ve values as well\n",
    "#syntax :- randn(number_of_values);\n",
    "\n",
    "arr=np.random.randn(4);\n",
    "arr"
   ]
  },
  {
   "cell_type": "code",
   "execution_count": 20,
   "id": "1630a373",
   "metadata": {},
   "outputs": [
    {
     "data": {
      "text/plain": [
       "array([[1., 0., 0., 0.],\n",
       "       [0., 1., 0., 0.],\n",
       "       [0., 0., 1., 0.],\n",
       "       [0., 0., 0., 1.]])"
      ]
     },
     "execution_count": 20,
     "metadata": {},
     "output_type": "execute_result"
    }
   ],
   "source": [
    "# 8. identity :- genenrates an identity matrix of specified order\n",
    "arr=np.identity(4);\n",
    "arr"
   ]
  },
  {
   "cell_type": "code",
   "execution_count": 21,
   "id": "9a2205d3",
   "metadata": {},
   "outputs": [
    {
     "data": {
      "text/plain": [
       "array([[1, 2, 3],\n",
       "       [1, 2, 3],\n",
       "       [1, 2, 3]])"
      ]
     },
     "execution_count": 21,
     "metadata": {},
     "output_type": "execute_result"
    }
   ],
   "source": [
    "# 9. repeat :- repeat an array\n",
    "arr=np.array([[1,2,3]])\n",
    "r1=np.repeat(arr,3,axis=0);\n",
    "r1\n"
   ]
  },
  {
   "cell_type": "markdown",
   "id": "2d4e6828",
   "metadata": {},
   "source": [
    "### One dimensional array"
   ]
  },
  {
   "cell_type": "code",
   "execution_count": 22,
   "id": "62a959fc",
   "metadata": {},
   "outputs": [],
   "source": [
    "# Indexing\n",
    "# it supports indexing from left to right as well as from right to left\n",
    "# when left to right indexing starts from 0.\n",
    "# while right to left indexing starts from -1\n",
    "# this indexing technique is much similar to indexing technique of lists"
   ]
  },
  {
   "cell_type": "code",
   "execution_count": 24,
   "id": "6e09241a",
   "metadata": {},
   "outputs": [
    {
     "name": "stdout",
     "output_type": "stream",
     "text": [
      "enter the size of the array4\n",
      "enter number1\n",
      "enter number2\n",
      "enter number3\n",
      "enter number4\n",
      "element at index  0  is  1\n",
      "element at index  1  is  2\n",
      "element at index  2  is  3\n",
      "element at index  3  is  4\n"
     ]
    }
   ],
   "source": [
    "a=[]\n",
    "size=int(input('enter the size of the array'));\n",
    "for i in range(size):\n",
    "    val=int(input('enter number'));\n",
    "    a.append(val);\n",
    "myarr=np.array(a);\n",
    "\n",
    "for i in range(myarr.size):\n",
    "    print(\"element at index \",i,\" is \",myarr[i]);\n",
    "    "
   ]
  },
  {
   "cell_type": "code",
   "execution_count": 25,
   "id": "2d82ebb1",
   "metadata": {},
   "outputs": [
    {
     "name": "stdout",
     "output_type": "stream",
     "text": [
      "[3 4]\n"
     ]
    }
   ],
   "source": [
    "# Slicing\n",
    "myarr=np.array([1,2,3,4,5,6]);\n",
    "print(myarr[2:4]); # array(starting_value:end_value-1);\n",
    "\n"
   ]
  },
  {
   "cell_type": "code",
   "execution_count": 26,
   "id": "f44ce57e",
   "metadata": {},
   "outputs": [
    {
     "name": "stdout",
     "output_type": "stream",
     "text": [
      "[3 4 5 6]\n",
      "[1 2]\n"
     ]
    }
   ],
   "source": [
    "print(myarr[2:]); # from 2 till end\n",
    "print(myarr[:2]) # from 0 til 2-1 i.e 1"
   ]
  },
  {
   "cell_type": "code",
   "execution_count": 27,
   "id": "508267aa",
   "metadata": {},
   "outputs": [
    {
     "name": "stdout",
     "output_type": "stream",
     "text": [
      "[5 6]\n",
      "[2 3 4 5]\n"
     ]
    }
   ],
   "source": [
    "# accessing last index using -ve indexing\n",
    "print(myarr[-2:]) # from 2nd last till end\n",
    "print(myarr[1:-1]) "
   ]
  },
  {
   "cell_type": "markdown",
   "id": "486d4883",
   "metadata": {},
   "source": [
    "### Reshaping Data "
   ]
  },
  {
   "cell_type": "code",
   "execution_count": 28,
   "id": "01acdbe9",
   "metadata": {},
   "outputs": [
    {
     "name": "stdout",
     "output_type": "stream",
     "text": [
      "[39 19 80 92 46 71 33 94 15 82 97 91]\n",
      "(12,)\n"
     ]
    }
   ],
   "source": [
    "arr=np.random.randint(1,100,12);\n",
    "print(arr); # printing array\n",
    "print(arr.shape) # printing shape of the array\n"
   ]
  },
  {
   "cell_type": "code",
   "execution_count": 29,
   "id": "75700c9d",
   "metadata": {},
   "outputs": [
    {
     "name": "stdout",
     "output_type": "stream",
     "text": [
      "[[39 19 80 92]\n",
      " [46 71 33 94]\n",
      " [15 82 97 91]]\n"
     ]
    }
   ],
   "source": [
    "# reshaping one dimensional array to 2 dimensional\n",
    "arr=arr.reshape(3,4); # only provide that combination of dimension whose product equals to actual size of the array i.e 12\n",
    "print(arr);"
   ]
  },
  {
   "cell_type": "code",
   "execution_count": 30,
   "id": "dff935f2",
   "metadata": {},
   "outputs": [
    {
     "data": {
      "text/plain": [
       "array([[[39, 19, 80],\n",
       "        [92, 46, 71]],\n",
       "\n",
       "       [[33, 94, 15],\n",
       "        [82, 97, 91]]])"
      ]
     },
     "execution_count": 30,
     "metadata": {},
     "output_type": "execute_result"
    }
   ],
   "source": [
    "# converting to 3 dimensional array\n",
    "arr=arr.reshape(2,2,3);\n",
    "arr"
   ]
  },
  {
   "cell_type": "code",
   "execution_count": 31,
   "id": "6178a686",
   "metadata": {},
   "outputs": [
    {
     "data": {
      "text/plain": [
       "array([39, 19, 80, 92, 46, 71, 33, 94, 15, 82, 97, 91])"
      ]
     },
     "execution_count": 31,
     "metadata": {},
     "output_type": "execute_result"
    }
   ],
   "source": [
    "# again converting this 3D array to 1D\n",
    "arr=arr.reshape(12);\n",
    "arr"
   ]
  },
  {
   "cell_type": "code",
   "execution_count": 32,
   "id": "0048c368",
   "metadata": {},
   "outputs": [
    {
     "name": "stdout",
     "output_type": "stream",
     "text": [
      "[[39 19 80 92 46 71]\n",
      " [33 94 15 82 97 91]] \n",
      "\n",
      "[[39 19]\n",
      " [80 92]\n",
      " [46 71]\n",
      " [33 94]\n",
      " [15 82]\n",
      " [97 91]]\n"
     ]
    }
   ],
   "source": [
    "# what if we don't provide no of rows or columns during reshaping our array\n",
    "# e.g\n",
    "\n",
    "arr=arr.reshape(2,-1) \n",
    "print(arr,\"\\n\")\n",
    "\n",
    "# or\n",
    "\n",
    "arr=arr.reshape(-1,2);\n",
    "print(arr);\n",
    "\n",
    "# any way can be used for this as -1 entry wll be calculated by the system\n"
   ]
  },
  {
   "cell_type": "code",
   "execution_count": 33,
   "id": "dc3cb0ae",
   "metadata": {},
   "outputs": [
    {
     "data": {
      "text/plain": [
       "array([76, 28,  7,  3,  4, 68, 77, 49, 23, 50, 53,  6])"
      ]
     },
     "execution_count": 33,
     "metadata": {},
     "output_type": "execute_result"
    }
   ],
   "source": [
    "# Seed Function :- generates fix set of random number in given range\n",
    "np.random.seed(12);\n",
    "arr=np.random.randint(1,100,12);\n",
    "arr"
   ]
  },
  {
   "cell_type": "markdown",
   "id": "344fcc97",
   "metadata": {},
   "source": [
    "### Two dimensional Array"
   ]
  },
  {
   "cell_type": "code",
   "execution_count": 34,
   "id": "6a8b2738",
   "metadata": {},
   "outputs": [],
   "source": [
    "# Indexing/Slicing of two dimensional array may be done by two ways:\n",
    "# 1. Indexing/Slicing using double bracket notation\n",
    "# 2. Indexing/Slicing using single bracket notation"
   ]
  },
  {
   "cell_type": "code",
   "execution_count": 35,
   "id": "bdb5ce63",
   "metadata": {},
   "outputs": [
    {
     "name": "stdout",
     "output_type": "stream",
     "text": [
      "enter the no of rows of the array3\n",
      "enter the no of columns of the array3\n",
      "enter number :1\n",
      "enter number :2\n",
      "enter number :3\n",
      "enter number :4\n",
      "enter number :5\n",
      "enter number :6\n",
      "enter number :7\n",
      "enter number :8\n",
      "enter number :9\n",
      "1 2 3 \n",
      "4 5 6 \n",
      "7 8 9 \n"
     ]
    }
   ],
   "source": [
    "#Creation\n",
    "a=[]\n",
    "row=int(input('enter the no of rows of the array'));\n",
    "col=int(input('enter the no of columns of the array'));\n",
    "\n",
    "for i in range(row):\n",
    "    b=[];\n",
    "    for j in range(col):\n",
    "        val=int(input('enter number :'));\n",
    "        b.append(val);\n",
    "    a.append(b);\n",
    "\n",
    "#Printing\n",
    "for i in range(row):\n",
    "    for j in range(col):\n",
    "           print(a[i][j],end=\" \");\n",
    "    print();"
   ]
  },
  {
   "cell_type": "code",
   "execution_count": 36,
   "id": "1b6fc52e",
   "metadata": {},
   "outputs": [
    {
     "data": {
      "text/plain": [
       "[[1, 2, 3], [4, 5, 6]]"
      ]
     },
     "execution_count": 36,
     "metadata": {},
     "output_type": "execute_result"
    }
   ],
   "source": [
    "# Slicing\n",
    "# Single bracket notation\n",
    "# syntax : array[row range,col range] --> here col range=col range-1\n",
    "a[:2] # from 0th row to 1st row"
   ]
  },
  {
   "cell_type": "code",
   "execution_count": 37,
   "id": "eb76f0f5",
   "metadata": {},
   "outputs": [
    {
     "name": "stdout",
     "output_type": "stream",
     "text": [
      "[[4, 5, 6], [7, 8, 9]]\n"
     ]
    }
   ],
   "source": [
    "print(a[1:5])"
   ]
  },
  {
   "cell_type": "code",
   "execution_count": 38,
   "id": "cb31171c",
   "metadata": {},
   "outputs": [
    {
     "data": {
      "text/plain": [
       "[[7, 8, 9]]"
      ]
     },
     "execution_count": 38,
     "metadata": {},
     "output_type": "execute_result"
    }
   ],
   "source": [
    "a[2:] # last row"
   ]
  },
  {
   "cell_type": "markdown",
   "id": "731e526a",
   "metadata": {},
   "source": [
    "### View vs Copy"
   ]
  },
  {
   "cell_type": "raw",
   "id": "5f7d0e93",
   "metadata": {},
   "source": [
    "when we slice a sub-array from an array,it may be done by two ways.\n",
    "First is by making view and the second is by using copy of it.\n",
    "But there is some difference between both of them. If you make a view of an array, any changes made to the sub-array will be replicated to the original array whereas if you make any copy, any changes made of copied sub-array will not reflect on the original array"
   ]
  },
  {
   "cell_type": "code",
   "execution_count": 39,
   "id": "6fb8dbc4",
   "metadata": {},
   "outputs": [
    {
     "name": "stdout",
     "output_type": "stream",
     "text": [
      "[40 50 60]\n",
      "[10 20 30  0  0  0 70 80]\n"
     ]
    }
   ],
   "source": [
    "# e.g View technique\n",
    "a=np.array([10,20,30,40,50,60,70,80]);\n",
    "slicing=a[3:6]\n",
    "print(slicing)\n",
    "slicing[:]=0\n",
    "print(a) # original array got upadated"
   ]
  },
  {
   "cell_type": "code",
   "execution_count": 40,
   "id": "539148df",
   "metadata": {},
   "outputs": [
    {
     "name": "stdout",
     "output_type": "stream",
     "text": [
      "[40 50 60]\n",
      "[10 20 30 40 50 60 70 80]\n"
     ]
    }
   ],
   "source": [
    "# e.g copy technique\n",
    "a=np.array([10,20,30,40,50,60,70,80]);\n",
    "slicing=a[3:6].copy()\n",
    "print(slicing)\n",
    "slicing[:]=0\n",
    "print(a) # original array not updated"
   ]
  },
  {
   "cell_type": "markdown",
   "id": "bbc81807",
   "metadata": {},
   "source": [
    "#### Conditional Selection"
   ]
  },
  {
   "cell_type": "code",
   "execution_count": 41,
   "id": "48d46e86",
   "metadata": {},
   "outputs": [
    {
     "data": {
      "text/plain": [
       "array([ 1,  2,  3,  4,  5,  6,  7,  8,  9, 10, 11, 12, 13, 14, 15])"
      ]
     },
     "execution_count": 41,
     "metadata": {},
     "output_type": "execute_result"
    }
   ],
   "source": [
    "arr=np.arange(1,16) # creates an array in range 1 to 15\n",
    "arr"
   ]
  },
  {
   "cell_type": "code",
   "execution_count": 42,
   "id": "4cdc24f5",
   "metadata": {},
   "outputs": [
    {
     "data": {
      "text/plain": [
       "array([False, False, False, False, False, False, False, False, False,\n",
       "       False,  True,  True,  True,  True,  True])"
      ]
     },
     "execution_count": 42,
     "metadata": {},
     "output_type": "execute_result"
    }
   ],
   "source": [
    "arr>10 # returns true if element is greater than 10"
   ]
  },
  {
   "cell_type": "code",
   "execution_count": 43,
   "id": "fd128fd0",
   "metadata": {},
   "outputs": [
    {
     "data": {
      "text/plain": [
       "array([11, 12, 13, 14, 15])"
      ]
     },
     "execution_count": 43,
     "metadata": {},
     "output_type": "execute_result"
    }
   ],
   "source": [
    "b=arr>10\n",
    "arr[b] # stores value greater than 10"
   ]
  },
  {
   "cell_type": "code",
   "execution_count": 44,
   "id": "06fe6520",
   "metadata": {},
   "outputs": [
    {
     "data": {
      "text/plain": [
       "array([1, 2, 3, 4])"
      ]
     },
     "execution_count": 44,
     "metadata": {},
     "output_type": "execute_result"
    }
   ],
   "source": [
    "arr[arr<5] # print elements less than 5 in the array"
   ]
  },
  {
   "cell_type": "code",
   "execution_count": 45,
   "id": "4bc62113",
   "metadata": {},
   "outputs": [
    {
     "data": {
      "text/plain": [
       "array([ 2,  4,  6,  8, 10, 12, 14])"
      ]
     },
     "execution_count": 45,
     "metadata": {},
     "output_type": "execute_result"
    }
   ],
   "source": [
    "arr[arr%2==0] # print even elements\n"
   ]
  },
  {
   "cell_type": "code",
   "execution_count": 46,
   "id": "787477f5",
   "metadata": {},
   "outputs": [
    {
     "data": {
      "text/plain": [
       "array([ 1,  0,  3,  0,  5,  0,  7,  0,  9,  0, 11,  0, 13,  0, 15])"
      ]
     },
     "execution_count": 46,
     "metadata": {},
     "output_type": "execute_result"
    }
   ],
   "source": [
    "# updating values \n",
    "arr[arr%2==0]=0 # replace even elements with zero\n",
    "arr"
   ]
  },
  {
   "cell_type": "markdown",
   "id": "a3862a93",
   "metadata": {},
   "source": [
    "####  Operations on numpy array"
   ]
  },
  {
   "cell_type": "code",
   "execution_count": 47,
   "id": "5b6938a2",
   "metadata": {},
   "outputs": [
    {
     "data": {
      "text/plain": [
       "array([1, 2, 3, 4])"
      ]
     },
     "execution_count": 47,
     "metadata": {},
     "output_type": "execute_result"
    }
   ],
   "source": [
    "arr=np.arange(1,5)\n",
    "arr"
   ]
  },
  {
   "cell_type": "code",
   "execution_count": 48,
   "id": "41f5491e",
   "metadata": {},
   "outputs": [
    {
     "data": {
      "text/plain": [
       "array([2, 4, 6, 8])"
      ]
     },
     "execution_count": 48,
     "metadata": {},
     "output_type": "execute_result"
    }
   ],
   "source": [
    "arr*2 # multiply each element with 2"
   ]
  },
  {
   "cell_type": "code",
   "execution_count": 49,
   "id": "83ec5a16",
   "metadata": {},
   "outputs": [
    {
     "data": {
      "text/plain": [
       "array([3, 4, 5, 6])"
      ]
     },
     "execution_count": 49,
     "metadata": {},
     "output_type": "execute_result"
    }
   ],
   "source": [
    "arr+2 # add every element with 2\n"
   ]
  },
  {
   "cell_type": "code",
   "execution_count": 50,
   "id": "a4caaf0b",
   "metadata": {},
   "outputs": [
    {
     "data": {
      "text/plain": [
       "array([ 1,  4,  9, 16], dtype=int32)"
      ]
     },
     "execution_count": 50,
     "metadata": {},
     "output_type": "execute_result"
    }
   ],
   "source": [
    "arr**2 # square of each element"
   ]
  },
  {
   "cell_type": "code",
   "execution_count": 51,
   "id": "00c2c83e",
   "metadata": {},
   "outputs": [],
   "source": [
    "# in numpy array divide by zero gives infinity, not an error"
   ]
  },
  {
   "cell_type": "code",
   "execution_count": 52,
   "id": "9db16125",
   "metadata": {},
   "outputs": [
    {
     "data": {
      "text/plain": [
       "array([5, 6, 7, 8])"
      ]
     },
     "execution_count": 52,
     "metadata": {},
     "output_type": "execute_result"
    }
   ],
   "source": [
    "arr1=np.arange(5,9)\n",
    "arr1"
   ]
  },
  {
   "cell_type": "code",
   "execution_count": 53,
   "id": "5333c2c8",
   "metadata": {},
   "outputs": [
    {
     "data": {
      "text/plain": [
       "array([ 6,  8, 10, 12])"
      ]
     },
     "execution_count": 53,
     "metadata": {},
     "output_type": "execute_result"
    }
   ],
   "source": [
    "arr + arr1 # sum of arr and arr1"
   ]
  },
  {
   "cell_type": "markdown",
   "id": "d8023c8a",
   "metadata": {},
   "source": [
    "#### Operation on 2 D array"
   ]
  },
  {
   "cell_type": "code",
   "execution_count": 54,
   "id": "0bd4c828",
   "metadata": {},
   "outputs": [],
   "source": [
    "a=np.array([1,2,3,4]).reshape(2,2)\n",
    "b=np.array([5,6,7,8]).reshape(2,2)"
   ]
  },
  {
   "cell_type": "code",
   "execution_count": 55,
   "id": "4279b10c",
   "metadata": {},
   "outputs": [
    {
     "data": {
      "text/plain": [
       "array([[1, 2],\n",
       "       [3, 4]])"
      ]
     },
     "execution_count": 55,
     "metadata": {},
     "output_type": "execute_result"
    }
   ],
   "source": [
    "a"
   ]
  },
  {
   "cell_type": "code",
   "execution_count": 56,
   "id": "eecb0c49",
   "metadata": {},
   "outputs": [
    {
     "data": {
      "text/plain": [
       "array([[5, 6],\n",
       "       [7, 8]])"
      ]
     },
     "execution_count": 56,
     "metadata": {},
     "output_type": "execute_result"
    }
   ],
   "source": [
    "b"
   ]
  },
  {
   "cell_type": "code",
   "execution_count": 57,
   "id": "83710c7a",
   "metadata": {},
   "outputs": [
    {
     "data": {
      "text/plain": [
       "array([[ 6,  8],\n",
       "       [10, 12]])"
      ]
     },
     "execution_count": 57,
     "metadata": {},
     "output_type": "execute_result"
    }
   ],
   "source": [
    "a+b"
   ]
  },
  {
   "cell_type": "code",
   "execution_count": 58,
   "id": "ab638b50",
   "metadata": {},
   "outputs": [
    {
     "data": {
      "text/plain": [
       "array([[ 5, 12],\n",
       "       [21, 32]])"
      ]
     },
     "execution_count": 58,
     "metadata": {},
     "output_type": "execute_result"
    }
   ],
   "source": [
    "a*b"
   ]
  },
  {
   "cell_type": "code",
   "execution_count": 59,
   "id": "0f912a82",
   "metadata": {},
   "outputs": [
    {
     "data": {
      "text/plain": [
       "array([[5.        , 3.        ],\n",
       "       [2.33333333, 2.        ]])"
      ]
     },
     "execution_count": 59,
     "metadata": {},
     "output_type": "execute_result"
    }
   ],
   "source": [
    "b/a"
   ]
  },
  {
   "cell_type": "code",
   "execution_count": 60,
   "id": "03fd0512",
   "metadata": {},
   "outputs": [
    {
     "data": {
      "text/plain": [
       "array([[19, 22],\n",
       "       [43, 50]])"
      ]
     },
     "execution_count": 60,
     "metadata": {},
     "output_type": "execute_result"
    }
   ],
   "source": [
    "a.dot(b) # this will give proper matrix multiplication result"
   ]
  },
  {
   "cell_type": "code",
   "execution_count": 61,
   "id": "d218e881",
   "metadata": {},
   "outputs": [
    {
     "data": {
      "text/plain": [
       "array([[    1,    64],\n",
       "       [ 2187, 65536]], dtype=int32)"
      ]
     },
     "execution_count": 61,
     "metadata": {},
     "output_type": "execute_result"
    }
   ],
   "source": [
    "a**b # a exponent b"
   ]
  },
  {
   "cell_type": "markdown",
   "id": "3a254113",
   "metadata": {},
   "source": [
    "#### Some more Functions"
   ]
  },
  {
   "cell_type": "code",
   "execution_count": 62,
   "id": "2ca2bab2",
   "metadata": {},
   "outputs": [
    {
     "data": {
      "text/plain": [
       "array([10, 20, 30, 40, 50, 60])"
      ]
     },
     "execution_count": 62,
     "metadata": {},
     "output_type": "execute_result"
    }
   ],
   "source": [
    "arr=np.array([10,20,30,40,50,60])\n",
    "arr"
   ]
  },
  {
   "cell_type": "code",
   "execution_count": 63,
   "id": "6d443071",
   "metadata": {},
   "outputs": [
    {
     "data": {
      "text/plain": [
       "10"
      ]
     },
     "execution_count": 63,
     "metadata": {},
     "output_type": "execute_result"
    }
   ],
   "source": [
    "np.min(arr) # returns min value "
   ]
  },
  {
   "cell_type": "code",
   "execution_count": 64,
   "id": "848c3671",
   "metadata": {},
   "outputs": [
    {
     "data": {
      "text/plain": [
       "60"
      ]
     },
     "execution_count": 64,
     "metadata": {},
     "output_type": "execute_result"
    }
   ],
   "source": [
    "np.max(arr) # returns max value"
   ]
  },
  {
   "cell_type": "code",
   "execution_count": 65,
   "id": "6ce5d18e",
   "metadata": {},
   "outputs": [
    {
     "data": {
      "text/plain": [
       "0"
      ]
     },
     "execution_count": 65,
     "metadata": {},
     "output_type": "execute_result"
    }
   ],
   "source": [
    "np.argmin(arr) # returns index of min value"
   ]
  },
  {
   "cell_type": "code",
   "execution_count": 66,
   "id": "1ab5954f",
   "metadata": {},
   "outputs": [
    {
     "data": {
      "text/plain": [
       "5"
      ]
     },
     "execution_count": 66,
     "metadata": {},
     "output_type": "execute_result"
    }
   ],
   "source": [
    "np.argmax(arr) # returns index of max value"
   ]
  },
  {
   "cell_type": "code",
   "execution_count": 67,
   "id": "4d476de9",
   "metadata": {},
   "outputs": [
    {
     "data": {
      "text/plain": [
       "array([3.16227766, 4.47213595, 5.47722558, 6.32455532, 7.07106781,\n",
       "       7.74596669])"
      ]
     },
     "execution_count": 67,
     "metadata": {},
     "output_type": "execute_result"
    }
   ],
   "source": [
    "np.sqrt(arr) # square root of every number"
   ]
  },
  {
   "cell_type": "code",
   "execution_count": 68,
   "id": "3e69e0cb",
   "metadata": {},
   "outputs": [
    {
     "data": {
      "text/plain": [
       "array([-0.54402111,  0.91294525, -0.98803162,  0.74511316, -0.26237485,\n",
       "       -0.30481062])"
      ]
     },
     "execution_count": 68,
     "metadata": {},
     "output_type": "execute_result"
    }
   ],
   "source": [
    "np.sin(arr) # sin value of every number"
   ]
  },
  {
   "cell_type": "code",
   "execution_count": 69,
   "id": "aa39aba4",
   "metadata": {},
   "outputs": [
    {
     "data": {
      "text/plain": [
       "array([-0.83907153,  0.40808206,  0.15425145, -0.66693806,  0.96496603,\n",
       "       -0.95241298])"
      ]
     },
     "execution_count": 69,
     "metadata": {},
     "output_type": "execute_result"
    }
   ],
   "source": [
    "np.cos(arr) # cos value of every number"
   ]
  },
  {
   "cell_type": "code",
   "execution_count": 70,
   "id": "2d8dc572",
   "metadata": {},
   "outputs": [
    {
     "name": "stdout",
     "output_type": "stream",
     "text": [
      "[1.   1.25 1.5  1.75 2.  ]\n"
     ]
    }
   ],
   "source": [
    "# linspace function :- returns value between a given range and with a same gap between consecutive elements\n",
    "\n",
    "print(np.linspace(1,2,5)); # (min_value, max_value, number_of_values)"
   ]
  },
  {
   "cell_type": "code",
   "execution_count": 71,
   "id": "adcf462e",
   "metadata": {},
   "outputs": [
    {
     "data": {
      "text/plain": [
       "array([[16, 11, 13],\n",
       "       [17, 13, 16],\n",
       "       [ 3, 16, 11]])"
      ]
     },
     "execution_count": 71,
     "metadata": {},
     "output_type": "execute_result"
    }
   ],
   "source": [
    "# on 2D arrays\n",
    "np.random.seed(122)\n",
    "matrix=np.random.randint(1,21,9).reshape(3,3)\n",
    "matrix"
   ]
  },
  {
   "cell_type": "code",
   "execution_count": 72,
   "id": "ce2617b5",
   "metadata": {},
   "outputs": [
    {
     "data": {
      "text/plain": [
       "116"
      ]
     },
     "execution_count": 72,
     "metadata": {},
     "output_type": "execute_result"
    }
   ],
   "source": [
    "# np.sum(matrix) or\n",
    "matrix.sum()"
   ]
  },
  {
   "cell_type": "code",
   "execution_count": 73,
   "id": "f8df092a",
   "metadata": {},
   "outputs": [
    {
     "data": {
      "text/plain": [
       "3"
      ]
     },
     "execution_count": 73,
     "metadata": {},
     "output_type": "execute_result"
    }
   ],
   "source": [
    "np.min(matrix)"
   ]
  },
  {
   "cell_type": "code",
   "execution_count": 74,
   "id": "b39f10fa",
   "metadata": {},
   "outputs": [
    {
     "data": {
      "text/plain": [
       "17"
      ]
     },
     "execution_count": 74,
     "metadata": {},
     "output_type": "execute_result"
    }
   ],
   "source": [
    "np.max(matrix)"
   ]
  },
  {
   "cell_type": "code",
   "execution_count": 75,
   "id": "73cd0c5f",
   "metadata": {},
   "outputs": [
    {
     "data": {
      "text/plain": [
       "array([11, 13,  3])"
      ]
     },
     "execution_count": 75,
     "metadata": {},
     "output_type": "execute_result"
    }
   ],
   "source": [
    "# finding row wise and column wise min or max\n",
    "\n",
    "# axis=1 --> for row\n",
    "#finding row wise min value\n",
    "np.min(matrix,axis=1) "
   ]
  },
  {
   "cell_type": "code",
   "execution_count": 76,
   "id": "43a39859",
   "metadata": {},
   "outputs": [
    {
     "data": {
      "text/plain": [
       "array([ 3, 11, 11])"
      ]
     },
     "execution_count": 76,
     "metadata": {},
     "output_type": "execute_result"
    }
   ],
   "source": [
    "# finding col wise min value\n",
    "np.min(matrix,axis=0)"
   ]
  },
  {
   "cell_type": "code",
   "execution_count": 77,
   "id": "0f6262e4",
   "metadata": {},
   "outputs": [
    {
     "data": {
      "text/plain": [
       "array([16, 17, 16])"
      ]
     },
     "execution_count": 77,
     "metadata": {},
     "output_type": "execute_result"
    }
   ],
   "source": [
    "# finding row and column wise max value\n",
    "np.max(matrix,axis=1)"
   ]
  },
  {
   "cell_type": "code",
   "execution_count": 78,
   "id": "8a3897d0",
   "metadata": {},
   "outputs": [
    {
     "data": {
      "text/plain": [
       "array([17, 16, 16])"
      ]
     },
     "execution_count": 78,
     "metadata": {},
     "output_type": "execute_result"
    }
   ],
   "source": [
    "np.max(matrix,axis=0)"
   ]
  },
  {
   "cell_type": "code",
   "execution_count": 79,
   "id": "f837e6f1",
   "metadata": {},
   "outputs": [
    {
     "data": {
      "text/plain": [
       "array([ 16,  27,  40,  57,  70,  86,  89, 105, 116], dtype=int32)"
      ]
     },
     "execution_count": 79,
     "metadata": {},
     "output_type": "execute_result"
    }
   ],
   "source": [
    "np.cumsum(matrix) # returns cumulative sum of the matrix"
   ]
  },
  {
   "cell_type": "code",
   "execution_count": 80,
   "id": "cb208a21",
   "metadata": {},
   "outputs": [
    {
     "data": {
      "text/plain": [
       "array([16, 11, 13, 17, 13, 16,  3, 16, 11, 10])"
      ]
     },
     "execution_count": 80,
     "metadata": {},
     "output_type": "execute_result"
    }
   ],
   "source": [
    "np.random.seed(122)\n",
    "arr=np.random.randint(1,21,10)\n",
    "arr"
   ]
  },
  {
   "cell_type": "code",
   "execution_count": 81,
   "id": "6457703e",
   "metadata": {},
   "outputs": [
    {
     "name": "stdout",
     "output_type": "stream",
     "text": [
      "None\n"
     ]
    }
   ],
   "source": [
    "b=np.random.shuffle(arr) # shuffle the array elements --> changing the position of array elements\n",
    "print(b)"
   ]
  },
  {
   "cell_type": "code",
   "execution_count": 82,
   "id": "76f6103e",
   "metadata": {},
   "outputs": [
    {
     "data": {
      "text/plain": [
       "array([ 3, 10, 11, 13, 16, 17])"
      ]
     },
     "execution_count": 82,
     "metadata": {},
     "output_type": "execute_result"
    }
   ],
   "source": [
    "np.unique(arr) # returns unique elements from the array"
   ]
  },
  {
   "cell_type": "code",
   "execution_count": 83,
   "id": "1221ef5b",
   "metadata": {},
   "outputs": [
    {
     "data": {
      "text/plain": [
       "6"
      ]
     },
     "execution_count": 83,
     "metadata": {},
     "output_type": "execute_result"
    }
   ],
   "source": [
    "# counting unique number in the array\n",
    "np.unique(arr).size"
   ]
  },
  {
   "cell_type": "code",
   "execution_count": 84,
   "id": "35800e76",
   "metadata": {},
   "outputs": [
    {
     "name": "stdout",
     "output_type": "stream",
     "text": [
      "(array([ 3, 10, 11, 13, 16, 17]), array([9, 5, 3, 0, 1, 8], dtype=int64), array([1, 1, 2, 2, 3, 1], dtype=int64))\n"
     ]
    }
   ],
   "source": [
    "print(np.unique(arr,return_index=True,return_counts=True));\n",
    "# returns three arrays\n",
    "# The array with unique values\n",
    "# The array with respective index values\n",
    "# The array with counting of frequency"
   ]
  },
  {
   "cell_type": "markdown",
   "id": "9b2d581d",
   "metadata": {},
   "source": [
    "### Vertical and Horizontal Stacking"
   ]
  },
  {
   "cell_type": "code",
   "execution_count": 85,
   "id": "78770678",
   "metadata": {},
   "outputs": [
    {
     "data": {
      "text/plain": [
       "(array([1, 2, 3, 4]), array([5, 6, 7, 8]))"
      ]
     },
     "execution_count": 85,
     "metadata": {},
     "output_type": "execute_result"
    }
   ],
   "source": [
    "a=np.array([1,2,3,4])\n",
    "b=np.array([5,6,7,8])\n",
    "a,b"
   ]
  },
  {
   "cell_type": "code",
   "execution_count": 86,
   "id": "7e84798b",
   "metadata": {},
   "outputs": [
    {
     "data": {
      "text/plain": [
       "array([1, 2, 3, 4, 5, 6, 7, 8])"
      ]
     },
     "execution_count": 86,
     "metadata": {},
     "output_type": "execute_result"
    }
   ],
   "source": [
    "np.hstack((a,b)) # horizontally arranges the arrays"
   ]
  },
  {
   "cell_type": "code",
   "execution_count": 87,
   "id": "74ef0dc3",
   "metadata": {},
   "outputs": [
    {
     "data": {
      "text/plain": [
       "array([[1, 2, 3, 4],\n",
       "       [5, 6, 7, 8]])"
      ]
     },
     "execution_count": 87,
     "metadata": {},
     "output_type": "execute_result"
    }
   ],
   "source": [
    "np.vstack((a,b)) # vertically arranges the array"
   ]
  },
  {
   "cell_type": "code",
   "execution_count": 88,
   "id": "0b04f222",
   "metadata": {},
   "outputs": [
    {
     "data": {
      "text/plain": [
       "(array([[1, 2],\n",
       "        [3, 4]]),\n",
       " array([[5, 6],\n",
       "        [7, 8]]))"
      ]
     },
     "execution_count": 88,
     "metadata": {},
     "output_type": "execute_result"
    }
   ],
   "source": [
    "a=np.array([1,2,3,4]).reshape(2,2)\n",
    "b=np.array([5,6,7,8]).reshape(2,2)\n",
    "a,b"
   ]
  },
  {
   "cell_type": "code",
   "execution_count": 89,
   "id": "f054d3cf",
   "metadata": {},
   "outputs": [
    {
     "data": {
      "text/plain": [
       "array([[1, 2, 5, 6],\n",
       "       [3, 4, 7, 8]])"
      ]
     },
     "execution_count": 89,
     "metadata": {},
     "output_type": "execute_result"
    }
   ],
   "source": [
    "np.hstack((a,b)) # horizontally arranges the matrix\n"
   ]
  },
  {
   "cell_type": "code",
   "execution_count": 90,
   "id": "3a9e1e8c",
   "metadata": {},
   "outputs": [
    {
     "data": {
      "text/plain": [
       "array([[1, 2],\n",
       "       [3, 4],\n",
       "       [5, 6],\n",
       "       [7, 8]])"
      ]
     },
     "execution_count": 90,
     "metadata": {},
     "output_type": "execute_result"
    }
   ],
   "source": [
    "np.vstack((a,b)) # vertically arranges the matrix\n"
   ]
  },
  {
   "cell_type": "markdown",
   "id": "98149615",
   "metadata": {},
   "source": [
    "#### Searching an Element in numpy array"
   ]
  },
  {
   "cell_type": "code",
   "execution_count": 91,
   "id": "b3e9d996",
   "metadata": {},
   "outputs": [
    {
     "data": {
      "text/plain": [
       "array([1, 2, 3, 4, 5])"
      ]
     },
     "execution_count": 91,
     "metadata": {},
     "output_type": "execute_result"
    }
   ],
   "source": [
    "arr=np.arange(1,6)\n",
    "arr"
   ]
  },
  {
   "cell_type": "code",
   "execution_count": 92,
   "id": "ba2c1bea",
   "metadata": {},
   "outputs": [
    {
     "name": "stdout",
     "output_type": "stream",
     "text": [
      "(array([3], dtype=int64),)\n"
     ]
    }
   ],
   "source": [
    "x=np.where(arr==4) # returns the index of 4\n",
    "print(x) "
   ]
  },
  {
   "cell_type": "code",
   "execution_count": 93,
   "id": "969bec88",
   "metadata": {},
   "outputs": [
    {
     "name": "stdout",
     "output_type": "stream",
     "text": [
      "(array([1, 3], dtype=int64),)\n"
     ]
    }
   ],
   "source": [
    "result=np.where(arr%2==0)\n",
    "print(result) # returns array of index of even elements"
   ]
  },
  {
   "cell_type": "code",
   "execution_count": 94,
   "id": "0f55b7e5",
   "metadata": {},
   "outputs": [
    {
     "name": "stdout",
     "output_type": "stream",
     "text": [
      "5\n"
     ]
    }
   ],
   "source": [
    "#this method performs a binary search in the array and returns the index \n",
    "#where the speicfied value would be inserted to maintain the search order\n",
    "x=np.searchsorted(arr,7)\n",
    "print(x)"
   ]
  },
  {
   "cell_type": "code",
   "execution_count": 95,
   "id": "b2f9b992",
   "metadata": {},
   "outputs": [
    {
     "name": "stdout",
     "output_type": "stream",
     "text": [
      "5\n"
     ]
    }
   ],
   "source": [
    "# by default searching is performed from left side of the array, for performing form right side\n",
    "x=np.searchsorted(arr,7,'right')\n",
    "print(x)"
   ]
  },
  {
   "cell_type": "markdown",
   "id": "c04bb144",
   "metadata": {},
   "source": [
    "## NUMPY  Questions"
   ]
  },
  {
   "cell_type": "markdown",
   "id": "b5bebc3d",
   "metadata": {},
   "source": [
    "##### 1. Write a statement to import numpy"
   ]
  },
  {
   "cell_type": "code",
   "execution_count": 96,
   "id": "771b7196",
   "metadata": {},
   "outputs": [],
   "source": [
    "# Ans.\n",
    "import numpy as np"
   ]
  },
  {
   "cell_type": "markdown",
   "id": "cfa9d9ee",
   "metadata": {},
   "source": [
    "##### 2. Creating an array using numpy?"
   ]
  },
  {
   "cell_type": "code",
   "execution_count": 97,
   "id": "16188041",
   "metadata": {},
   "outputs": [
    {
     "data": {
      "text/plain": [
       "array([1, 2, 3, 4])"
      ]
     },
     "execution_count": 97,
     "metadata": {},
     "output_type": "execute_result"
    }
   ],
   "source": [
    "#Ans\n",
    "array=np.array([1,2,3,4])\n",
    "array"
   ]
  },
  {
   "cell_type": "markdown",
   "id": "6497a38e",
   "metadata": {},
   "source": [
    "##### 3.Create an array of 10 random integers?"
   ]
  },
  {
   "cell_type": "code",
   "execution_count": 98,
   "id": "85ab04ca",
   "metadata": {},
   "outputs": [
    {
     "data": {
      "text/plain": [
       "array([2, 7, 7, 1, 6])"
      ]
     },
     "execution_count": 98,
     "metadata": {},
     "output_type": "execute_result"
    }
   ],
   "source": [
    "#Ans\n",
    "arr=np.random.randint(1,10,5)\n",
    "arr"
   ]
  },
  {
   "cell_type": "markdown",
   "id": "27d11b87",
   "metadata": {},
   "source": [
    "##### 4.Create an array of elements from 10-20"
   ]
  },
  {
   "cell_type": "code",
   "execution_count": 99,
   "id": "229c9e93",
   "metadata": {},
   "outputs": [
    {
     "data": {
      "text/plain": [
       "array([10, 11, 12, 13, 14, 15, 16, 17, 18, 19])"
      ]
     },
     "execution_count": 99,
     "metadata": {},
     "output_type": "execute_result"
    }
   ],
   "source": [
    "#Ans\n",
    "arr=np.arange(10,20)\n",
    "arr"
   ]
  },
  {
   "cell_type": "markdown",
   "id": "e300f902",
   "metadata": {},
   "source": [
    "##### 5.Create an array which contains value 5, 10 times"
   ]
  },
  {
   "cell_type": "code",
   "execution_count": 100,
   "id": "2a0187d5",
   "metadata": {},
   "outputs": [
    {
     "data": {
      "text/plain": [
       "array([5., 5., 5., 5., 5., 5., 5., 5., 5., 5.])"
      ]
     },
     "execution_count": 100,
     "metadata": {},
     "output_type": "execute_result"
    }
   ],
   "source": [
    "arr=np.ones(10)*5\n",
    "arr"
   ]
  },
  {
   "cell_type": "markdown",
   "id": "e499eaa3",
   "metadata": {},
   "source": [
    "##### 6.Create a one dimensional array and convet that into 3*3 matrix"
   ]
  },
  {
   "cell_type": "code",
   "execution_count": 101,
   "id": "d97f5bf3",
   "metadata": {},
   "outputs": [
    {
     "data": {
      "text/plain": [
       "array([[1, 2, 3],\n",
       "       [4, 5, 6],\n",
       "       [7, 8, 9]])"
      ]
     },
     "execution_count": 101,
     "metadata": {},
     "output_type": "execute_result"
    }
   ],
   "source": [
    "arr=np.arange(1,10).reshape(3,3)\n",
    "arr"
   ]
  },
  {
   "cell_type": "markdown",
   "id": "96fc7607",
   "metadata": {},
   "source": [
    "##### 7.Create an array and then convert all the even numbers with 0"
   ]
  },
  {
   "cell_type": "code",
   "execution_count": 102,
   "id": "b1b8f256",
   "metadata": {},
   "outputs": [
    {
     "data": {
      "text/plain": [
       "array([1, 0, 3, 0, 5, 0, 7, 0, 9, 0])"
      ]
     },
     "execution_count": 102,
     "metadata": {},
     "output_type": "execute_result"
    }
   ],
   "source": [
    "#Ans.\n",
    "arr=np.arange(1,11);\n",
    "arr[arr%2==0]=0\n",
    "arr"
   ]
  },
  {
   "cell_type": "markdown",
   "id": "7bbf8db4",
   "metadata": {},
   "source": [
    "##### 8. Create a 2D array of size 3*3 but all the elements should be between 0 and 1"
   ]
  },
  {
   "cell_type": "code",
   "execution_count": 103,
   "id": "f79515c6",
   "metadata": {},
   "outputs": [
    {
     "data": {
      "text/plain": [
       "array([[0.53665674, 0.67515235, 0.41526399],\n",
       "       [0.37040662, 0.72482967, 0.34418396],\n",
       "       [0.52770975, 0.87016427, 0.77298345]])"
      ]
     },
     "execution_count": 103,
     "metadata": {},
     "output_type": "execute_result"
    }
   ],
   "source": [
    "# Ans.\n",
    "arr=np.random.rand(9).reshape(3,3)\n",
    "arr"
   ]
  },
  {
   "cell_type": "markdown",
   "id": "1ced5f57",
   "metadata": {},
   "source": [
    "##### 9. Concatenate 2D array horizontally and vertically"
   ]
  },
  {
   "cell_type": "code",
   "execution_count": 104,
   "id": "91a63569",
   "metadata": {},
   "outputs": [
    {
     "data": {
      "text/plain": [
       "(array([[1, 2, 5, 6],\n",
       "        [3, 4, 7, 8]]),\n",
       " array([[1, 2],\n",
       "        [3, 4],\n",
       "        [5, 6],\n",
       "        [7, 8]]))"
      ]
     },
     "execution_count": 104,
     "metadata": {},
     "output_type": "execute_result"
    }
   ],
   "source": [
    "arr1=np.arange(1,5).reshape(2,2)\n",
    "arr2=np.arange(5,9).reshape(2,2)\n",
    "\n",
    "np.hstack((arr1,arr2)),np.vstack((arr1,arr2))"
   ]
  },
  {
   "cell_type": "code",
   "execution_count": null,
   "id": "57c9b939",
   "metadata": {},
   "outputs": [],
   "source": []
  },
  {
   "cell_type": "code",
   "execution_count": null,
   "id": "ef0b8a24",
   "metadata": {},
   "outputs": [],
   "source": []
  },
  {
   "cell_type": "code",
   "execution_count": null,
   "id": "153e5795",
   "metadata": {},
   "outputs": [],
   "source": []
  }
 ],
 "metadata": {
  "kernelspec": {
   "display_name": "Python 3",
   "language": "python",
   "name": "python3"
  },
  "language_info": {
   "codemirror_mode": {
    "name": "ipython",
    "version": 3
   },
   "file_extension": ".py",
   "mimetype": "text/x-python",
   "name": "python",
   "nbconvert_exporter": "python",
   "pygments_lexer": "ipython3",
   "version": "3.8.8"
  }
 },
 "nbformat": 4,
 "nbformat_minor": 5
}
